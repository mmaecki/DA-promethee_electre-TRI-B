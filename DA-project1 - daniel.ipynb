{
 "cells": [
  {
   "attachments": {},
   "cell_type": "markdown",
   "metadata": {},
   "source": [
    "# Decision Analysis - Project 1 #\n",
    "\n",
    "\n",
    "Mateusz Małecki <br>\n",
    "Daniel Jankowski 148257"
   ]
  },
  {
   "cell_type": "code",
   "execution_count": 5,
   "metadata": {},
   "outputs": [],
   "source": [
    "import pandas as pd\n",
    "import numpy as np\n",
    "import math\n",
    "from typing import Optional\n"
   ]
  },
  {
   "cell_type": "code",
   "execution_count": 6,
   "metadata": {},
   "outputs": [],
   "source": [
    "data = pd.read_csv(\"DA_database.csv\", decimal=\",\")"
   ]
  },
  {
   "cell_type": "code",
   "execution_count": 7,
   "metadata": {},
   "outputs": [
    {
     "data": {
      "text/html": [
       "<div>\n",
       "<style scoped>\n",
       "    .dataframe tbody tr th:only-of-type {\n",
       "        vertical-align: middle;\n",
       "    }\n",
       "\n",
       "    .dataframe tbody tr th {\n",
       "        vertical-align: top;\n",
       "    }\n",
       "\n",
       "    .dataframe thead th {\n",
       "        text-align: right;\n",
       "    }\n",
       "</style>\n",
       "<table border=\"1\" class=\"dataframe\">\n",
       "  <thead>\n",
       "    <tr style=\"text-align: right;\">\n",
       "      <th></th>\n",
       "      <th>name</th>\n",
       "      <th>prestige</th>\n",
       "      <th>power</th>\n",
       "      <th>price</th>\n",
       "      <th>engine_size</th>\n",
       "      <th>colour_preference</th>\n",
       "      <th>fuel_consumption</th>\n",
       "      <th>mileage</th>\n",
       "      <th>production_year</th>\n",
       "      <th>automatic_gear_box</th>\n",
       "    </tr>\n",
       "  </thead>\n",
       "  <tbody>\n",
       "    <tr>\n",
       "      <th>0</th>\n",
       "      <td>Seat Ibiza 1.2 white</td>\n",
       "      <td>1</td>\n",
       "      <td>90</td>\n",
       "      <td>34900</td>\n",
       "      <td>1.2</td>\n",
       "      <td>2</td>\n",
       "      <td>6.0</td>\n",
       "      <td>90000</td>\n",
       "      <td>2015</td>\n",
       "      <td>0</td>\n",
       "    </tr>\n",
       "    <tr>\n",
       "      <th>1</th>\n",
       "      <td>Seat Ibiza 1.4 green</td>\n",
       "      <td>1</td>\n",
       "      <td>85</td>\n",
       "      <td>27800</td>\n",
       "      <td>1.4</td>\n",
       "      <td>4</td>\n",
       "      <td>6.9</td>\n",
       "      <td>82000</td>\n",
       "      <td>2015</td>\n",
       "      <td>0</td>\n",
       "    </tr>\n",
       "    <tr>\n",
       "      <th>2</th>\n",
       "      <td>Skoda Fabia grey</td>\n",
       "      <td>4</td>\n",
       "      <td>75</td>\n",
       "      <td>31500</td>\n",
       "      <td>1.0</td>\n",
       "      <td>1</td>\n",
       "      <td>5.8</td>\n",
       "      <td>215000</td>\n",
       "      <td>2019</td>\n",
       "      <td>0</td>\n",
       "    </tr>\n",
       "    <tr>\n",
       "      <th>3</th>\n",
       "      <td>Nissan Note grey</td>\n",
       "      <td>3</td>\n",
       "      <td>80</td>\n",
       "      <td>28500</td>\n",
       "      <td>1.2</td>\n",
       "      <td>1</td>\n",
       "      <td>6.0</td>\n",
       "      <td>133000</td>\n",
       "      <td>2014</td>\n",
       "      <td>0</td>\n",
       "    </tr>\n",
       "    <tr>\n",
       "      <th>4</th>\n",
       "      <td>MINI Cooper 1.6 blue</td>\n",
       "      <td>7</td>\n",
       "      <td>175</td>\n",
       "      <td>27900</td>\n",
       "      <td>1.6</td>\n",
       "      <td>5</td>\n",
       "      <td>2.0</td>\n",
       "      <td>183000</td>\n",
       "      <td>2006</td>\n",
       "      <td>0</td>\n",
       "    </tr>\n",
       "  </tbody>\n",
       "</table>\n",
       "</div>"
      ],
      "text/plain": [
       "                   name  prestige  power  price  engine_size  \\\n",
       "0  Seat Ibiza 1.2 white         1     90  34900          1.2   \n",
       "1  Seat Ibiza 1.4 green         1     85  27800          1.4   \n",
       "2      Skoda Fabia grey         4     75  31500          1.0   \n",
       "3      Nissan Note grey         3     80  28500          1.2   \n",
       "4  MINI Cooper 1.6 blue         7    175  27900          1.6   \n",
       "\n",
       "   colour_preference  fuel_consumption  mileage  production_year  \\\n",
       "0                  2               6.0    90000             2015   \n",
       "1                  4               6.9    82000             2015   \n",
       "2                  1               5.8   215000             2019   \n",
       "3                  1               6.0   133000             2014   \n",
       "4                  5               2.0   183000             2006   \n",
       "\n",
       "   automatic_gear_box  \n",
       "0                   0  \n",
       "1                   0  \n",
       "2                   0  \n",
       "3                   0  \n",
       "4                   0  "
      ]
     },
     "execution_count": 7,
     "metadata": {},
     "output_type": "execute_result"
    }
   ],
   "source": [
    "data.head()"
   ]
  },
  {
   "attachments": {},
   "cell_type": "markdown",
   "metadata": {},
   "source": [
    "## Decision classes ##"
   ]
  },
  {
   "cell_type": "code",
   "execution_count": 8,
   "metadata": {},
   "outputs": [],
   "source": [
    "params={\n",
    "    \"prestige\":{\n",
    "    \"type\":\"gain\", \"p\":2, \"q\":1, \"v\":None, \"w\":5\n",
    "    },\n",
    "    \"power\":{\n",
    "    \"type\":\"gain\", \"p\":15, \"q\":5, \"v\":None, \"w\":7\n",
    "    },\n",
    "    \"price\":{\n",
    "    \"type\":\"cost\", \"p\":3000, \"q\":1000, \"v\":None, \"w\":8\n",
    "    },\n",
    "    \"engine_size\":{\n",
    "    \"type\":\"cost\", \"p\":0.2, \"q\":0, \"v\":None, \"w\":7\n",
    "    },\n",
    "    \"colour_preference\":{\n",
    "    \"type\":\"gain\", \"p\":0, \"q\":0, \"v\":None, \"w\":2\n",
    "    },\n",
    "    \"fuel_consumption\":{\n",
    "    \"type\":\"cost\", \"p\":0.3, \"q\":0.1, \"v\":None, \"w\":8\n",
    "    },\n",
    "    \"mileage\":{\n",
    "    \"type\":\"cost\", \"p\":35000, \"q\":20000, \"v\":None, \"w\":10\n",
    "    },\n",
    "    \"production_year\":{\n",
    "    \"type\": \"gain\", \"p\":4, \"q\":2, \"v\":None, \"w\":6\n",
    "    },\n",
    "    \"automatic_gear_box\":{\n",
    "    \"type\":\"gain\", \"p\":1, \"q\":0, \"v\":None, \"w\":3\n",
    "    },\n",
    "}"
   ]
  },
  {
   "attachments": {},
   "cell_type": "markdown",
   "metadata": {},
   "source": [
    "## Promethe ##"
   ]
  },
  {
   "cell_type": "code",
   "execution_count": null,
   "metadata": {
    "collapsed": false,
    "pycharm": {
     "name": "#%%\n"
    }
   },
   "outputs": [],
   "source": [
    "class Promethee:\n",
    "    def __init__(self, alternatives: pd.DataFrame, parameters: dict[str, dict]) -> None:\n",
    "        self.alternatives = alternatives\n",
    "        self.parameters = parameters\n",
    "        self.criteria = [x for x in alternatives.columns[1:]]\n",
    "\n",
    "\n",
    "    def criteriaComparison(self, criteria: str, a, b, funcType: str) -> float:\n",
    "        assert(funcType in [\"Type1\", \"Type2\", \"Type3\", \"Type4\", \"Type5\", \"Type6\"])\n",
    "        p, q = self.parameters[criteria][\"p\"], self.parameters[criteria][\"q\"]\n",
    "        diff = a - b if self.parameters[criteria][\"type\"] == \"gain\" else b-a\n",
    "        if funcType == \"Type1\":\n",
    "            return 1 if diff > 0 else 0\n",
    "        \n",
    "        elif funcType == \"Type2\":\n",
    "            return 1 if diff > q else 0\n",
    "        \n",
    "        elif funcType == \"Type3\":\n",
    "            if diff > p:\n",
    "                return 1\n",
    "            elif diff <= 0:\n",
    "                return 0\n",
    "            else:\n",
    "                return diff / p\n",
    "        \n",
    "        elif funcType == \"Type4\":\n",
    "            if diff > p:\n",
    "                return 1\n",
    "            elif diff < q:\n",
    "                return 0\n",
    "            else:\n",
    "                return 0.5\n",
    "        \n",
    "        elif funcType == \"Type5\":\n",
    "            if diff > p:\n",
    "                return 1\n",
    "            elif diff <= q:\n",
    "                return 0\n",
    "            else:\n",
    "                return (diff - q)/(p-q)\n",
    "        else:\n",
    "            return 0 if diff <= 0 else 1 - math.exp(-diff/2) # assuming sd = 1\n",
    "    \n",
    "    def computeMarginalPreferencesAllCriteria(self, funcType: str) -> np.array:\n",
    "        marginalPreferenceIndices = np.zeros((len(self.criteria), len(self.alternatives), len(self.alternatives)))\n",
    "        for n, criteria in enumerate(self.criteria):\n",
    "            for i, row in self.alternatives.iterrows():\n",
    "                for j, row2 in self.alternatives.iterrows():\n",
    "                    if i == j:\n",
    "                        continue\n",
    "                    marginalPreferenceIndices[n][i][j] = self.criteriaComparison(criteria, row[criteria], row2[criteria], funcType)\n",
    "        return marginalPreferenceIndices\n",
    "    \n",
    "    def computeComprehensiveMatrix(self, funcType: str) -> np.array:\n",
    "        print(np.array([x['w'] for x in self.parameters.values()]))\n",
    "        return np.sum(self.computeMarginalPreferencesAllCriteria(funcType) * np.array([x['w'] for x in self.parameters.values()]), axis=0)\n",
    "    \n",
    "    def computePositiveFlows(self, matrix) -> np.array:\n",
    "        return np.sum(matrix, axis = 1)\n",
    "    def computeNegativeFlows(self, matrix) -> np.array:\n",
    "        return np.sum(matrix, axis = 0)\n",
    "    \n",
    "    def prometheeI(self, preference_function: str = \"Type5\"):\n",
    "        X = self.computeComprehensiveMatrix(preference_function)\n",
    "        positive_flows = sorted([x for x in zip(self.alternatives[\"name\"], self.computePositiveFlows(X))], key=lambda x:x[1], reverse=True)\n",
    "        negative_flows = sorted([x for x in zip(self.alternatives[\"name\"], self.computeNegativeFlows(X))], key=lambda x:x[1])\n",
    "        print(*positive_flows)\n",
    "        print(*negative_flows)\n",
    "        # graph = []\n",
    "        # pos = positive_flows[0]\n",
    "        # neg = negative_flows[0]\n",
    "        # for i in range(1, len(positive_flows)):\n",
    "        #     next_pos = positive_flows[i]\n",
    "        #     next_neg = negative_flows[i]\n",
    "\n"
   ]
  },
  {
   "cell_type": "code",
   "execution_count": null,
   "metadata": {
    "collapsed": false,
    "pycharm": {
     "name": "#%%\n"
    }
   },
   "outputs": [],
   "source": []
  },
  {
   "cell_type": "code",
   "execution_count": null,
   "metadata": {
    "collapsed": false,
    "pycharm": {
     "name": "#%%\n"
    }
   },
   "outputs": [],
   "source": [
    "decisionMaker = Promethee(data, params)\n",
    "decisionMaker.prometheeI()"
   ]
  }
 ],
 "metadata": {
  "kernelspec": {
   "display_name": "InfoRet",
   "language": "python",
   "name": "python3"
  },
  "language_info": {
   "codemirror_mode": {
    "name": "ipython",
    "version": 3
   },
   "file_extension": ".py",
   "mimetype": "text/x-python",
   "name": "python",
   "nbconvert_exporter": "python",
   "pygments_lexer": "ipython3",
   "version": "3.9.13"
  },
  "orig_nbformat": 4
 },
 "nbformat": 4,
 "nbformat_minor": 2
}
